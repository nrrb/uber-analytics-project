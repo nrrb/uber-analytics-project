{
 "cells": [
  {
   "cell_type": "code",
   "execution_count": 11,
   "id": "55b4d533-32c8-44e1-8ace-b45d758a2e12",
   "metadata": {},
   "outputs": [
    {
     "name": "stdout",
     "output_type": "stream",
     "text": [
      "artists                         [{'external_urls': {'spotify': 'https://open.s...\n",
      "available_markets               ['AR', 'AU', 'AT', 'BE', 'BO', 'BR', 'BG', 'CA...\n",
      "disc_number                                                                     1\n",
      "duration_ms                                                                192042\n",
      "explicit                                                                    False\n",
      "href                            https://api.spotify.com/v1/tracks/5h0M2GbBfvOj...\n",
      "id                                                         5h0M2GbBfvOj8GdG7sIDQT\n",
      "is_local                                                                    False\n",
      "name                                                                        Human\n",
      "popularity                                                                     47\n",
      "preview_url                                                                   NaN\n",
      "track_number                                                                   10\n",
      "type                                                                        track\n",
      "uri                                          spotify:track:5h0M2GbBfvOj8GdG7sIDQT\n",
      "album.album_type                                                            album\n",
      "album.artists                   [{'external_urls': {'spotify': 'https://open.s...\n",
      "album.available_markets         ['AR', 'AU', 'AT', 'BE', 'BO', 'BR', 'BG', 'CA...\n",
      "album.external_urls.spotify     https://open.spotify.com/album/59mqJqc42MU4BZK...\n",
      "album.href                      https://api.spotify.com/v1/albums/59mqJqc42MU4...\n",
      "album.id                                                   59mqJqc42MU4BZKRGLYwvB\n",
      "album.images                    [{'url': 'https://i.scdn.co/image/ab67616d0000...\n",
      "album.name                                                                   Ison\n",
      "album.release_date                                                     2017-04-26\n",
      "album.release_date_precision                                                  day\n",
      "album.total_tracks                                                             17\n",
      "album.type                                                                  album\n",
      "album.uri                                    spotify:album:59mqJqc42MU4BZKRGLYwvB\n",
      "external_ids.isrc                                                    NLE3U1500017\n",
      "external_urls.spotify           https://open.spotify.com/track/5h0M2GbBfvOj8Gd...\n",
      "Name: 0, dtype: object\n",
      "<class 'pandas.core.frame.DataFrame'>\n",
      "RangeIndex: 15970 entries, 0 to 15969\n",
      "Data columns (total 29 columns):\n",
      " #   Column                        Non-Null Count  Dtype  \n",
      "---  ------                        --------------  -----  \n",
      " 0   artists                       15970 non-null  object \n",
      " 1   available_markets             15970 non-null  object \n",
      " 2   disc_number                   15970 non-null  int64  \n",
      " 3   duration_ms                   15970 non-null  int64  \n",
      " 4   explicit                      15970 non-null  bool   \n",
      " 5   href                          15970 non-null  object \n",
      " 6   id                            15970 non-null  object \n",
      " 7   is_local                      15970 non-null  bool   \n",
      " 8   name                          15968 non-null  object \n",
      " 9   popularity                    15970 non-null  int64  \n",
      " 10  preview_url                   0 non-null      float64\n",
      " 11  track_number                  15970 non-null  int64  \n",
      " 12  type                          15970 non-null  object \n",
      " 13  uri                           15970 non-null  object \n",
      " 14  album.album_type              15970 non-null  object \n",
      " 15  album.artists                 15970 non-null  object \n",
      " 16  album.available_markets       15970 non-null  object \n",
      " 17  album.external_urls.spotify   15970 non-null  object \n",
      " 18  album.href                    15970 non-null  object \n",
      " 19  album.id                      15970 non-null  object \n",
      " 20  album.images                  15970 non-null  object \n",
      " 21  album.name                    15969 non-null  object \n",
      " 22  album.release_date            15970 non-null  object \n",
      " 23  album.release_date_precision  15970 non-null  object \n",
      " 24  album.total_tracks            15970 non-null  int64  \n",
      " 25  album.type                    15970 non-null  object \n",
      " 26  album.uri                     15970 non-null  object \n",
      " 27  external_ids.isrc             15968 non-null  object \n",
      " 28  external_urls.spotify         15970 non-null  object \n",
      "dtypes: bool(2), float64(1), int64(5), object(21)\n",
      "memory usage: 3.3+ MB\n",
      "None\n"
     ]
    }
   ],
   "source": [
    "import pandas as pd\n",
    "\n",
    "metadata = pd.read_csv('../data/tracks_metadata.csv')\n",
    "print(metadata.loc[0])\n",
    "print(metadata.info())"
   ]
  },
  {
   "cell_type": "code",
   "execution_count": 12,
   "id": "ff11f44f-1cb1-4dd9-b87f-34664cc87544",
   "metadata": {},
   "outputs": [
    {
     "name": "stdout",
     "output_type": "stream",
     "text": [
      "                                    uri  length_ms  explicit  popularity  \\\n",
      "0  spotify:track:5h0M2GbBfvOj8GdG7sIDQT     192042     False          47   \n",
      "1  spotify:track:5waFNguEkggHt2R05RxNBp     220138     False          34   \n",
      "2  spotify:track:2jP6fOa57zmFUU7JxcwtSp     115914      True          14   \n",
      "3  spotify:track:2QcF4vRgpl0ndKdC3vr2iM     211613     False          21   \n",
      "4  spotify:track:748mdHapucXQri7IAO8yFK     208866      True          53   \n",
      "\n",
      "                                         spotify_url  \n",
      "0  https://open.spotify.com/track/5h0M2GbBfvOj8Gd...  \n",
      "1  https://open.spotify.com/track/5waFNguEkggHt2R...  \n",
      "2  https://open.spotify.com/track/2jP6fOa57zmFUU7...  \n",
      "3  https://open.spotify.com/track/2QcF4vRgpl0ndKd...  \n",
      "4  https://open.spotify.com/track/748mdHapucXQri7...  \n"
     ]
    }
   ],
   "source": [
    "# I want to keep these keys: uri, duration_ms, explicit, popularity, external_urls.spotify\n",
    "metadata = metadata[['uri', 'duration_ms', 'explicit', 'popularity', 'external_urls.spotify']]\n",
    "metadata = metadata.rename(columns={'external_urls.spotify': 'spotify_url', 'duration_ms': 'length_ms'})\n",
    "print(metadata.head())"
   ]
  },
  {
   "cell_type": "code",
   "execution_count": 13,
   "id": "75e9ac75-6a6a-4e09-9db9-f2a3eaf6d68d",
   "metadata": {},
   "outputs": [
    {
     "name": "stdout",
     "output_type": "stream",
     "text": [
      "                         time_start                   time_end  ms_played  \\\n",
      "0  2023-09-21 09:03:45.132000-05:00  2023-09-21 09:04:06-05:00      20868   \n",
      "1  2023-09-21 09:04:04.862000-05:00  2023-09-21 09:07:45-05:00     220138   \n",
      "2  2023-09-21 09:07:46.023000-05:00  2023-09-21 09:08:05-05:00      18977   \n",
      "3  2023-09-21 09:08:04.387000-05:00  2023-09-21 09:11:36-05:00     211613   \n",
      "4  2023-09-21 09:11:36.134000-05:00  2023-09-21 09:15:05-05:00     208866   \n",
      "\n",
      "                      track           artist  \\\n",
      "0                     Human        Sevdaliza   \n",
      "1  Universe (feat. Kehlani)    Ty Dolla $ign   \n",
      "2                  BackBack          SuhnDon   \n",
      "3                  Take Two  Chong the Nomad   \n",
      "4  Kiss Me More (feat. SZA)         Doja Cat   \n",
      "\n",
      "                                    uri  length_ms  explicit  popularity  \\\n",
      "0  spotify:track:5h0M2GbBfvOj8GdG7sIDQT     192042     False          47   \n",
      "1  spotify:track:5waFNguEkggHt2R05RxNBp     220138     False          34   \n",
      "2  spotify:track:2jP6fOa57zmFUU7JxcwtSp     115914      True          14   \n",
      "3  spotify:track:2QcF4vRgpl0ndKdC3vr2iM     211613     False          21   \n",
      "4  spotify:track:748mdHapucXQri7IAO8yFK     208866      True          53   \n",
      "\n",
      "                                         spotify_url  \n",
      "0  https://open.spotify.com/track/5h0M2GbBfvOj8Gd...  \n",
      "1  https://open.spotify.com/track/5waFNguEkggHt2R...  \n",
      "2  https://open.spotify.com/track/2jP6fOa57zmFUU7...  \n",
      "3  https://open.spotify.com/track/2QcF4vRgpl0ndKd...  \n",
      "4  https://open.spotify.com/track/748mdHapucXQri7...  \n"
     ]
    }
   ],
   "source": [
    "songs = pd.read_csv('../data/spotify.csv')\n",
    "enriched = songs.merge(metadata, on='uri', how='left')\n",
    "print(enriched.head())\n",
    "enriched.to_csv('../data/spotify_enriched.csv', index=False)"
   ]
  }
 ],
 "metadata": {
  "kernelspec": {
   "display_name": "Python 3 (ipykernel)",
   "language": "python",
   "name": "python3"
  },
  "language_info": {
   "codemirror_mode": {
    "name": "ipython",
    "version": 3
   },
   "file_extension": ".py",
   "mimetype": "text/x-python",
   "name": "python",
   "nbconvert_exporter": "python",
   "pygments_lexer": "ipython3",
   "version": "3.11.7"
  }
 },
 "nbformat": 4,
 "nbformat_minor": 5
}

{
 "cells": [
  {
   "cell_type": "markdown",
   "id": "2f86eb1a-e99e-482c-b557-4fb45e79ea3e",
   "metadata": {},
   "source": [
    "# Processing Spotify Listening History Data\n",
    "\n",
    "Spotify provides a [personal data archive](https://www.spotify.com/us/account/privacy/) including all listening history, and depending on how long you want for the data archive you can get some or all of your Spotify data. I did the shorter time to just get my Spotify listening history while driving Uber. When you request the extended listening history, the [data key](https://support.spotify.com/us/article/understanding-my-data/) shows that each record contains 21 items:\n",
    "\n",
    "1. Date and time of when the stream ended in UTC format.\n",
    "2. Your Spotify username.\n",
    "3. Platform used when streaming the track (e.g. Android OS, Google Chromecast).\n",
    "4. For how many milliseconds the track was played.\n",
    "5. Country code of the country where the stream was played.\n",
    "6. IP address used when streaming the track.\n",
    "7. User agent used when streaming the track (e.g. a browser, like Mozilla Firefox, or Safari).\n",
    "8. Name of the track.\n",
    "9. Name of the artist, band or podcast.\n",
    "10. Name of the album of the track.\n",
    "11. A Spotify Track URI, that is identifying the unique music track.\n",
    "12. Name of the episode of the podcast.\n",
    "13. Name of the show of the podcast.\n",
    "14. A Spotify Episode URI, that is identifying the unique podcast episode.\n",
    "15. Reason why the track started (e.g. previous track finished or you picked it from the playlist).\n",
    "16. Reason why the track ended (e.g. the track finished playing or you hit the next button).\n",
    "17. Whether shuffle mode was used when playing the track.\n",
    "18. Information whether the user skipped to the next song.\n",
    "19. Information whether the track was played in offline mode.\n",
    "20. Timestamp of when offline mode was used, if it was used.\n",
    "21. Information whether the track was played during a private session.\n",
    "\n",
    "I'm really just interested in these items:\n",
    "\n",
    "1. Date and time of when the stream ended in UTC format.\n",
    "3. Platform used when streaming the track (e.g. Android OS, Google Chromecast).\n",
    "4. For how many milliseconds the track was played.\n",
    "8. Name of the track.\n",
    "9. Name of the artist, band or podcast.\n",
    "11. A Spotify Track URI, that is identifying the unique music track."
   ]
  },
  {
   "cell_type": "code",
   "execution_count": 28,
   "id": "74dcc953-f57d-4b3b-a35c-23eb39122664",
   "metadata": {},
   "outputs": [
    {
     "name": "stdout",
     "output_type": "stream",
     "text": [
      "<class 'pandas.core.frame.DataFrame'>\n",
      "RangeIndex: 86734 entries, 0 to 86733\n",
      "Data columns (total 23 columns):\n",
      " #   Column                             Non-Null Count  Dtype  \n",
      "---  ------                             --------------  -----  \n",
      " 0   ts                                 86734 non-null  object \n",
      " 1   platform                           86734 non-null  object \n",
      " 2   ms_played                          86734 non-null  int64  \n",
      " 3   conn_country                       86734 non-null  object \n",
      " 4   ip_addr                            86734 non-null  object \n",
      " 5   master_metadata_track_name         86694 non-null  object \n",
      " 6   master_metadata_album_artist_name  86694 non-null  object \n",
      " 7   master_metadata_album_album_name   86694 non-null  object \n",
      " 8   spotify_track_uri                  86694 non-null  object \n",
      " 9   episode_name                       37 non-null     object \n",
      " 10  episode_show_name                  37 non-null     object \n",
      " 11  spotify_episode_uri                37 non-null     object \n",
      " 12  audiobook_title                    3 non-null      object \n",
      " 13  audiobook_uri                      3 non-null      object \n",
      " 14  audiobook_chapter_uri              3 non-null      object \n",
      " 15  audiobook_chapter_title            1 non-null      object \n",
      " 16  reason_start                       86734 non-null  object \n",
      " 17  reason_end                         86734 non-null  object \n",
      " 18  shuffle                            86734 non-null  bool   \n",
      " 19  skipped                            86734 non-null  bool   \n",
      " 20  offline                            86734 non-null  bool   \n",
      " 21  offline_timestamp                  86586 non-null  float64\n",
      " 22  incognito_mode                     86734 non-null  bool   \n",
      "dtypes: bool(4), float64(1), int64(1), object(17)\n",
      "memory usage: 12.9+ MB\n",
      "None\n",
      "['ios' 'osx' 'windows' 'android']\n"
     ]
    }
   ],
   "source": [
    "import pandas as pd\n",
    "import glob\n",
    "import hashlib\n",
    "import json\n",
    "import re\n",
    "\n",
    "file_pattern = \"../data/spotify_extended_data/Streaming_History_Audio_*.json\"\n",
    "file_list = glob.glob(file_pattern)\n",
    "sorted_files = sorted(file_list, key=lambda x: int(re.search(r'(\\d+)', x).group(1)))\n",
    "\n",
    "dataframes = []\n",
    "for file in sorted_files:\n",
    "    dataframes.append(pd.read_json(file))\n",
    "\n",
    "songs = pd.concat(dataframes, ignore_index=True)\n",
    "\n",
    "print(songs.info())\n",
    "print(songs['platform'].unique())"
   ]
  },
  {
   "cell_type": "code",
   "execution_count": 29,
   "id": "348c2656-4d19-49d3-ae02-b2e1b68f4c27",
   "metadata": {},
   "outputs": [
    {
     "name": "stdout",
     "output_type": "stream",
     "text": [
      "<class 'pandas.core.frame.DataFrame'>\n",
      "Index: 79789 entries, 0 to 86733\n",
      "Data columns (total 6 columns):\n",
      " #   Column     Non-Null Count  Dtype \n",
      "---  ------     --------------  ----- \n",
      " 0   time_end   79789 non-null  object\n",
      " 1   platform   79789 non-null  object\n",
      " 2   ms_played  79789 non-null  int64 \n",
      " 3   track      79749 non-null  object\n",
      " 4   artist     79749 non-null  object\n",
      " 5   uri        79749 non-null  object\n",
      "dtypes: int64(1), object(5)\n",
      "memory usage: 4.3+ MB\n",
      "None\n"
     ]
    }
   ],
   "source": [
    "songs = songs[['ts', 'platform', 'ms_played', 'master_metadata_track_name', 'master_metadata_album_artist_name', 'spotify_track_uri']]\n",
    "songs = songs.rename(columns={\n",
    "    'ts': 'time_end',\n",
    "    'master_metadata_track_name': 'track',\n",
    "    'master_metadata_album_artist_name': 'artist',\n",
    "    'spotify_track_uri': 'uri'\n",
    "})\n",
    "songs = songs[songs['platform'] == 'ios']\n",
    "print(songs.info())"
   ]
  },
  {
   "cell_type": "markdown",
   "id": "00adfb80-83d8-42e2-b1e1-eb707d3e1034",
   "metadata": {},
   "source": [
    "# Adjusting Time\n",
    "\n",
    "To make further analysis easier, we should have datetime objects for song start and stop times. Since we only have end time, we can get start time by subtracting `msPlayed` in milliseconds from the track end time. We then need to change both times from UTC to UTC-6 for Chicago."
   ]
  },
  {
   "cell_type": "code",
   "execution_count": 30,
   "id": "c931741f-0596-48fb-84b2-6d2eeb704fb9",
   "metadata": {},
   "outputs": [
    {
     "name": "stdout",
     "output_type": "stream",
     "text": [
      "                   time_end platform                     track  \\\n",
      "0 2023-09-21 09:04:06-05:00      ios                     Human   \n",
      "1 2023-09-21 09:07:45-05:00      ios  Universe (feat. Kehlani)   \n",
      "2 2023-09-21 09:08:05-05:00      ios                  BackBack   \n",
      "3 2023-09-21 09:11:36-05:00      ios                  Take Two   \n",
      "4 2023-09-21 09:15:05-05:00      ios  Kiss Me More (feat. SZA)   \n",
      "\n",
      "            artist                                   uri  \\\n",
      "0        Sevdaliza  spotify:track:5h0M2GbBfvOj8GdG7sIDQT   \n",
      "1    Ty Dolla $ign  spotify:track:5waFNguEkggHt2R05RxNBp   \n",
      "2          SuhnDon  spotify:track:2jP6fOa57zmFUU7JxcwtSp   \n",
      "3  Chong the Nomad  spotify:track:2QcF4vRgpl0ndKdC3vr2iM   \n",
      "4         Doja Cat  spotify:track:748mdHapucXQri7IAO8yFK   \n",
      "\n",
      "                        time_start  \n",
      "0 2023-09-21 09:03:45.132000-05:00  \n",
      "1 2023-09-21 09:04:04.862000-05:00  \n",
      "2 2023-09-21 09:07:46.023000-05:00  \n",
      "3 2023-09-21 09:08:04.387000-05:00  \n",
      "4 2023-09-21 09:11:36.134000-05:00  \n",
      "<class 'pandas.core.frame.DataFrame'>\n",
      "Index: 79659 entries, 0 to 86733\n",
      "Data columns (total 6 columns):\n",
      " #   Column      Non-Null Count  Dtype                          \n",
      "---  ------      --------------  -----                          \n",
      " 0   time_end    79659 non-null  datetime64[ns, America/Chicago]\n",
      " 1   platform    79659 non-null  object                         \n",
      " 2   track       79619 non-null  object                         \n",
      " 3   artist      79619 non-null  object                         \n",
      " 4   uri         79619 non-null  object                         \n",
      " 5   time_start  79659 non-null  datetime64[ns, America/Chicago]\n",
      "dtypes: datetime64[ns, America/Chicago](2), object(4)\n",
      "memory usage: 4.3+ MB\n",
      "None\n"
     ]
    }
   ],
   "source": [
    "songs = songs[songs['ms_played'] > 0]\n",
    "songs['time_end'] = pd.to_datetime(songs['time_end'], format='ISO8601')\n",
    "songs['time_start'] = songs['time_end'] - pd.to_timedelta(songs['ms_played'], unit='ms')\n",
    "songs['time_start'] = songs['time_start'].dt.tz_convert('America/Chicago')\n",
    "songs['time_end'] = songs['time_end'].dt.tz_convert('America/Chicago')\n",
    "songs.drop(columns=['ms_played'], inplace=True)\n",
    "\n",
    "print(songs.head())\n",
    "print(songs.info())"
   ]
  },
  {
   "cell_type": "code",
   "execution_count": 31,
   "id": "e0d4d81e-239a-4f14-9e66-8613905f4b35",
   "metadata": {},
   "outputs": [],
   "source": [
    "songs.to_csv('../data/spotify.csv', index=False)"
   ]
  },
  {
   "cell_type": "code",
   "execution_count": 32,
   "id": "336ebd2c-dfe1-466c-a971-037e320ad547",
   "metadata": {},
   "outputs": [
    {
     "name": "stdout",
     "output_type": "stream",
     "text": [
      "Unique artists: 6257\n",
      "Unique songs: 15461\n"
     ]
    }
   ],
   "source": [
    "print(f\"Unique artists: {songs['artist'].nunique()}\")\n",
    "unique_song_count = songs.drop_duplicates(subset=[\"track\", \"artist\"]).shape[0]\n",
    "print(f\"Unique songs: {unique_song_count}\")"
   ]
  }
 ],
 "metadata": {
  "kernelspec": {
   "display_name": "Python 3 (ipykernel)",
   "language": "python",
   "name": "python3"
  },
  "language_info": {
   "codemirror_mode": {
    "name": "ipython",
    "version": 3
   },
   "file_extension": ".py",
   "mimetype": "text/x-python",
   "name": "python",
   "nbconvert_exporter": "python",
   "pygments_lexer": "ipython3",
   "version": "3.11.7"
  }
 },
 "nbformat": 4,
 "nbformat_minor": 5
}

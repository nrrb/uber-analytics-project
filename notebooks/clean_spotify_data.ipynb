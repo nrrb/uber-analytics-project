{
 "cells": [
  {
   "cell_type": "markdown",
   "id": "2f86eb1a-e99e-482c-b557-4fb45e79ea3e",
   "metadata": {},
   "source": [
    "# Processing Spotify Listening History Data\n",
    "\n",
    "Spotify provides a [personal data archive](https://www.spotify.com/us/account/privacy/) including all listening history, and depending on how long you want for the data archive you can get some or all of your Spotify data. I did the shorter time to just get my Spotify listening history while driving Uber. The [data key](https://support.spotify.com/us/article/understanding-my-data/) shows that StreamingHistory contains four items:\n",
    "\n",
    "* Date and time of when the stream ended in Coordinated Universal Time format (UTC).\n",
    "* Name of \"creator\" for each stream (e.g. the artist name of a music track).\n",
    "* Name of items listened to or watched (e.g. title of music track or name of video).\n",
    "* “msPlayed”- Stands for how many mili-seconds the track was listened to. "
   ]
  },
  {
   "cell_type": "code",
   "execution_count": 8,
   "id": "74dcc953-f57d-4b3b-a35c-23eb39122664",
   "metadata": {},
   "outputs": [
    {
     "name": "stdout",
     "output_type": "stream",
     "text": [
      "            endTime    artistName  \\\n",
      "0  2023-09-12 23:59    Aphex Twin   \n",
      "1  2023-09-13 23:01  Jamar Rogers   \n",
      "2  2023-09-13 23:02   DJ MENOR ML   \n",
      "3  2023-09-14 00:10      Overmono   \n",
      "4  2023-09-14 00:10      Overmono   \n",
      "\n",
      "                                          trackName  msPlayed  \n",
      "0                                        Ageispolis     96352  \n",
      "1                              God Bless Your Lungs     47466  \n",
      "2  Troquei Meu Playstation Por Um Pentão De Robocop     39573  \n",
      "3                                         If U Ever      2730  \n",
      "4                                         Good Lies      5546  \n",
      "<class 'pandas.core.frame.DataFrame'>\n",
      "RangeIndex: 61710 entries, 0 to 61709\n",
      "Data columns (total 4 columns):\n",
      " #   Column      Non-Null Count  Dtype \n",
      "---  ------      --------------  ----- \n",
      " 0   endTime     61710 non-null  object\n",
      " 1   artistName  61710 non-null  object\n",
      " 2   trackName   61710 non-null  object\n",
      " 3   msPlayed    61710 non-null  int64 \n",
      "dtypes: int64(1), object(3)\n",
      "memory usage: 1.9+ MB\n",
      "None\n"
     ]
    }
   ],
   "source": [
    "import pandas as pd\n",
    "import glob\n",
    "import hashlib\n",
    "import json\n",
    "import re\n",
    "\n",
    "file_pattern = \"../data/StreamingHistory_music_*.json\"\n",
    "file_list = glob.glob(file_pattern)\n",
    "sorted_files = sorted(file_list, key=lambda x: int(re.search(r'(\\d+)', x).group(1)))\n",
    "\n",
    "dataframes = []\n",
    "for file in sorted_files:\n",
    "    dataframes.append(pd.read_json(file))\n",
    "\n",
    "spotify_df = pd.concat(dataframes, ignore_index=True)\n",
    "\n",
    "print(spotify_df.head())\n",
    "print(spotify_df.info())"
   ]
  },
  {
   "cell_type": "markdown",
   "id": "00adfb80-83d8-42e2-b1e1-eb707d3e1034",
   "metadata": {},
   "source": [
    "# Adjusting Time\n",
    "\n",
    "To make further analysis easier, we should have datetime objects for song start and stop times. Since we only have end time, we can get start time by subtracting `msPlayed` in milliseconds from the track end time. We then need to change both times from UTC to UTC-6 for Chicago."
   ]
  },
  {
   "cell_type": "code",
   "execution_count": 9,
   "id": "c931741f-0596-48fb-84b2-6d2eeb704fb9",
   "metadata": {},
   "outputs": [
    {
     "name": "stdout",
     "output_type": "stream",
     "text": [
      "     artistName                                         trackName  \\\n",
      "0    Aphex Twin                                        Ageispolis   \n",
      "1  Jamar Rogers                              God Bless Your Lungs   \n",
      "2   DJ MENOR ML  Troquei Meu Playstation Por Um Pentão De Robocop   \n",
      "3      Overmono                                         If U Ever   \n",
      "4      Overmono                                         Good Lies   \n",
      "\n",
      "                   time_end                       time_start  \n",
      "0 2023-09-12 18:59:00-05:00 2023-09-12 18:57:23.648000-05:00  \n",
      "1 2023-09-13 18:01:00-05:00 2023-09-13 18:00:12.534000-05:00  \n",
      "2 2023-09-13 18:02:00-05:00 2023-09-13 18:01:20.427000-05:00  \n",
      "3 2023-09-13 19:10:00-05:00 2023-09-13 19:09:57.270000-05:00  \n",
      "4 2023-09-13 19:10:00-05:00 2023-09-13 19:09:54.454000-05:00  \n",
      "<class 'pandas.core.frame.DataFrame'>\n",
      "RangeIndex: 61710 entries, 0 to 61709\n",
      "Data columns (total 4 columns):\n",
      " #   Column      Non-Null Count  Dtype                          \n",
      "---  ------      --------------  -----                          \n",
      " 0   artistName  61710 non-null  object                         \n",
      " 1   trackName   61710 non-null  object                         \n",
      " 2   time_end    61710 non-null  datetime64[ns, America/Chicago]\n",
      " 3   time_start  61710 non-null  datetime64[ns, America/Chicago]\n",
      "dtypes: datetime64[ns, America/Chicago](2), object(2)\n",
      "memory usage: 1.9+ MB\n",
      "None\n"
     ]
    }
   ],
   "source": [
    "spotify_df['time_end'] = pd.to_datetime(spotify_df['endTime'], format='%Y-%m-%d %H:%M')\n",
    "spotify_df['time_start'] = spotify_df['time_end'] - pd.to_timedelta(spotify_df['msPlayed'], unit='ms')\n",
    "spotify_df['time_start'] = spotify_df['time_start'].dt.tz_localize('UTC').dt.tz_convert('America/Chicago')\n",
    "spotify_df['time_end'] = spotify_df['time_end'].dt.tz_localize('UTC').dt.tz_convert('America/Chicago')\n",
    "spotify_df.drop(columns=['endTime', 'msPlayed'], inplace=True)\n",
    "\n",
    "print(spotify_df.head())\n",
    "print(spotify_df.info())"
   ]
  },
  {
   "cell_type": "code",
   "execution_count": 11,
   "id": "e0d4d81e-239a-4f14-9e66-8613905f4b35",
   "metadata": {},
   "outputs": [],
   "source": [
    "spotify_df.to_csv('../data/spotify.csv', index=False)"
   ]
  },
  {
   "cell_type": "code",
   "execution_count": 12,
   "id": "336ebd2c-dfe1-466c-a971-037e320ad547",
   "metadata": {},
   "outputs": [
    {
     "name": "stdout",
     "output_type": "stream",
     "text": [
      "Unique artists: 5502\n",
      "Unique songs: 13340\n"
     ]
    }
   ],
   "source": [
    "print(f\"Unique artists: {spotify_df['artistName'].nunique()}\")\n",
    "unique_song_count = spotify_df.drop_duplicates(subset=[\"trackName\", \"artistName\"]).shape[0]\n",
    "print(f\"Unique songs: {unique_song_count}\")"
   ]
  },
  {
   "cell_type": "code",
   "execution_count": null,
   "id": "f1f461ba-5616-40be-8eb6-55c7047b7feb",
   "metadata": {},
   "outputs": [],
   "source": []
  }
 ],
 "metadata": {
  "kernelspec": {
   "display_name": "Python 3 (ipykernel)",
   "language": "python",
   "name": "python3"
  },
  "language_info": {
   "codemirror_mode": {
    "name": "ipython",
    "version": 3
   },
   "file_extension": ".py",
   "mimetype": "text/x-python",
   "name": "python",
   "nbconvert_exporter": "python",
   "pygments_lexer": "ipython3",
   "version": "3.11.7"
  }
 },
 "nbformat": 4,
 "nbformat_minor": 5
}
